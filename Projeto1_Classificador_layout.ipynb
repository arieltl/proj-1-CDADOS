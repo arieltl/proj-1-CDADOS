{
 "cells": [
  {
   "cell_type": "markdown",
   "metadata": {},
   "source": [
    "# Projeto 1 - Ciência dos Dados"
   ]
  },
  {
   "cell_type": "markdown",
   "metadata": {},
   "source": [
    "Nome: _____\n",
    "\n",
    "Nome: _____"
   ]
  },
  {
   "cell_type": "markdown",
   "metadata": {},
   "source": [
    "**Atenção:** Serão permitidos grupos de três pessoas, mas com uma rubrica mais exigente. Grupos deste tamanho precisarão fazer um questionário de avaliação de trabalho em equipe"
   ]
  },
  {
   "cell_type": "markdown",
   "metadata": {},
   "source": [
    "___\n",
    "Carregando algumas bibliotecas:"
   ]
  },
  {
   "cell_type": "code",
   "execution_count": 2,
   "metadata": {},
   "outputs": [
    {
     "name": "stdout",
     "output_type": "stream",
     "text": [
      "Requirement already satisfied: emoji in d:\\anaconda-python\\lib\\site-packages (0.6.0)\n"
     ]
    }
   ],
   "source": [
    "%matplotlib inline\n",
    "!pip install emoji\n",
    "import pandas as pd\n",
    "import matplotlib.pyplot as plt\n",
    "import numpy as np\n",
    "import os\n",
    "from emoji import UNICODE_EMOJI"
   ]
  },
  {
   "cell_type": "markdown",
   "metadata": {},
   "source": [
    "**Em `filename`, coloque o nome do seu arquivo de dados!**"
   ]
  },
  {
   "cell_type": "code",
   "execution_count": 3,
   "metadata": {},
   "outputs": [
    {
     "name": "stdout",
     "output_type": "stream",
     "text": [
      "Encontrei o arquivo rtx 3080.xlsx, tudo certo para prosseguir com a prova!\n"
     ]
    }
   ],
   "source": [
    "import os\n",
    "\n",
    "filename = 'rtx 3080.xlsx'\n",
    "if filename in os.listdir():\n",
    "    print(f'Encontrei o arquivo {filename}, tudo certo para prosseguir com a prova!')\n",
    "else:\n",
    "    print(f'Não encontrei o arquivo {filename} aqui no diretório {os.getcwd()}, será que você não baixou o arquivo?')"
   ]
  },
  {
   "cell_type": "markdown",
   "metadata": {},
   "source": [
    "Carregando a base de dados com os tweets classificados como relevantes e não relevantes:"
   ]
  },
  {
   "cell_type": "code",
   "execution_count": 4,
   "metadata": {},
   "outputs": [
    {
     "data": {
      "text/html": [
       "<div>\n",
       "<style scoped>\n",
       "    .dataframe tbody tr th:only-of-type {\n",
       "        vertical-align: middle;\n",
       "    }\n",
       "\n",
       "    .dataframe tbody tr th {\n",
       "        vertical-align: top;\n",
       "    }\n",
       "\n",
       "    .dataframe thead th {\n",
       "        text-align: right;\n",
       "    }\n",
       "</style>\n",
       "<table border=\"1\" class=\"dataframe\">\n",
       "  <thead>\n",
       "    <tr style=\"text-align: right;\">\n",
       "      <th></th>\n",
       "      <th>Treinamento</th>\n",
       "      <th>Classificação</th>\n",
       "    </tr>\n",
       "  </thead>\n",
       "  <tbody>\n",
       "    <tr>\n",
       "      <th>0</th>\n",
       "      <td>@rtx_3080 @thelockalarm don’t let em get frost...</td>\n",
       "      <td>I</td>\n",
       "    </tr>\n",
       "    <tr>\n",
       "      <th>1</th>\n",
       "      <td>answering your rtx 3080 questions! - probing p...</td>\n",
       "      <td>R</td>\n",
       "    </tr>\n",
       "    <tr>\n",
       "      <th>2</th>\n",
       "      <td>are you still doing my mom https://t.co/yn0umv...</td>\n",
       "      <td>I</td>\n",
       "    </tr>\n",
       "    <tr>\n",
       "      <th>3</th>\n",
       "      <td>i guess us customs wins this round. a partner ...</td>\n",
       "      <td>P</td>\n",
       "    </tr>\n",
       "    <tr>\n",
       "      <th>4</th>\n",
       "      <td>gonna order when listing on amazon us!\\n \\nhtt...</td>\n",
       "      <td>I</td>\n",
       "    </tr>\n",
       "  </tbody>\n",
       "</table>\n",
       "</div>"
      ],
      "text/plain": [
       "                                         Treinamento Classificação\n",
       "0  @rtx_3080 @thelockalarm don’t let em get frost...             I\n",
       "1  answering your rtx 3080 questions! - probing p...             R\n",
       "2  are you still doing my mom https://t.co/yn0umv...             I\n",
       "3  i guess us customs wins this round. a partner ...             P\n",
       "4  gonna order when listing on amazon us!\\n \\nhtt...             I"
      ]
     },
     "execution_count": 4,
     "metadata": {},
     "output_type": "execute_result"
    }
   ],
   "source": [
    "train = pd.read_excel(filename)\n",
    "train.head(5)"
   ]
  },
  {
   "cell_type": "code",
   "execution_count": 5,
   "metadata": {},
   "outputs": [
    {
     "data": {
      "text/html": [
       "<div>\n",
       "<style scoped>\n",
       "    .dataframe tbody tr th:only-of-type {\n",
       "        vertical-align: middle;\n",
       "    }\n",
       "\n",
       "    .dataframe tbody tr th {\n",
       "        vertical-align: top;\n",
       "    }\n",
       "\n",
       "    .dataframe thead th {\n",
       "        text-align: right;\n",
       "    }\n",
       "</style>\n",
       "<table border=\"1\" class=\"dataframe\">\n",
       "  <thead>\n",
       "    <tr style=\"text-align: right;\">\n",
       "      <th></th>\n",
       "      <th>Teste</th>\n",
       "    </tr>\n",
       "  </thead>\n",
       "  <tbody>\n",
       "    <tr>\n",
       "      <th>0</th>\n",
       "      <td>@kaylasweetx i just want a rtx 3080</td>\n",
       "    </tr>\n",
       "    <tr>\n",
       "      <th>1</th>\n",
       "      <td>plan on upgrading with @nvidia's rtx 3080? be ...</td>\n",
       "    </tr>\n",
       "    <tr>\n",
       "      <th>2</th>\n",
       "      <td>@insomniacgames i thought the playstation 5 co...</td>\n",
       "    </tr>\n",
       "    <tr>\n",
       "      <th>3</th>\n",
       "      <td>@asus_rog @asus_rog are you guys releasing the...</td>\n",
       "    </tr>\n",
       "    <tr>\n",
       "      <th>4</th>\n",
       "      <td>@vixlyt @eryxies @charlieintel its 2020. let's...</td>\n",
       "    </tr>\n",
       "  </tbody>\n",
       "</table>\n",
       "</div>"
      ],
      "text/plain": [
       "                                               Teste\n",
       "0                @kaylasweetx i just want a rtx 3080\n",
       "1  plan on upgrading with @nvidia's rtx 3080? be ...\n",
       "2  @insomniacgames i thought the playstation 5 co...\n",
       "3  @asus_rog @asus_rog are you guys releasing the...\n",
       "4  @vixlyt @eryxies @charlieintel its 2020. let's..."
      ]
     },
     "execution_count": 5,
     "metadata": {},
     "output_type": "execute_result"
    }
   ],
   "source": [
    "test = pd.read_excel(filename, sheet_name = 'Teste')\n",
    "test.head(5)"
   ]
  },
  {
   "cell_type": "markdown",
   "metadata": {},
   "source": [
    "___\n",
    "## Classificador automático de sentimento\n"
   ]
  },
  {
   "cell_type": "markdown",
   "metadata": {},
   "source": [
    "Faça aqui uma descrição do seu produto e o que considerou como relevante ou não relevante na classificação dos tweets.\n",
    "Descricao: uma placa de video usada em computadores para processamento de graficos, o uso mais comum e para jogar videogames no computador. O lancamento da placa ocorreu semanas antes do projeto comecar.\n",
    "\n",
    "Relevante -> qualque conteúdo que influência opiniões - seja ele crítico ou informátivo (até porque memso informativo sempre vai ter uma imparcialidade)\n",
    "\n",
    "Pouco Relevante -> passa alguma informação menor, menos importante pra formar opinião do produto, como por exemplo o fato de alguem vai comprar, ou críticas que nao sao culpa da nvidia(fabricante do produto)\n",
    "\n",
    "Irrelevante -> todo o resto, principalmente tweets que nem comentam o produto."
   ]
  },
  {
   "cell_type": "markdown",
   "metadata": {},
   "source": [
    "___\n",
    "### Montando um Classificador Naive-Bayes\n",
    "\n",
    "Considerando apenas as mensagens da planilha Treinamento, ensine  seu classificador."
   ]
  },
  {
   "cell_type": "code",
   "execution_count": 6,
   "metadata": {},
   "outputs": [],
   "source": [
    "def separate_emoji(text): #separa emojis dos outros caracteres\n",
    "    return ''.join(' ' + char if char in UNICODE_EMOJI else char for char in text).strip() #caso seja um emoji, adiciona um espaco, caso nao seja, apenas retorna a letra."
   ]
  },
  {
   "cell_type": "code",
   "execution_count": 7,
   "metadata": {},
   "outputs": [],
   "source": [
    "chars = [\",\", \"'\", '\"', \".\", \"!\", \"?\", \";\", \":\", \"[\", \"]\",\"{\", \"}\", \"(\", \")\", \"#\", \"/\",  \"\\\\\", \"https\",\"+\", \"@\", \"*\", \"-\"] \n",
    "word_count = dict()\n",
    "for i, tweet in train.iterrows(): #iterando a base de dados\n",
    "    piu = tweet.Treinamento #carregando apenas os tweets\n",
    "    \n",
    "    for c in chars: #iterando a listad e cacarteres p/ remover\n",
    "        piu = piu.replace(c, \" \") #trocando os caracteres por \" \"\n",
    "        \n",
    "    for word in separate_emoji(piu).split(): #splitando os tweets em palavras e emojis separadamente\n",
    "        word_count[word] = word_count.get(word, {'I':0, 'P':0, 'R':0}) #garantindo que  a palavra existe no dicionario, caso nao exista ela eh criada\n",
    "        word_count[word][tweet.Classificação.upper()]+=1 #incrementando o contador do valor correto\n",
    "        \n",
    "I = {word: word_count[word]['I'] for word in word_count if word_count[word]['I'] > 0} #I contem todas as palavras Irrelevantes, seu sum(I.values) == total de palavras Irrelevantes\n",
    "P = {word: word_count[word]['P'] for word in word_count if word_count[word]['P'] > 0} #P contem todas as palavras Pouco relevantes, seu sum(P.values) == total de palavras Pouco relevantes\n",
    "R = {word: word_count[word]['R'] for word in word_count if word_count[word]['R'] > 0} #R contem todas as palavras Relevantes, seu sum(R.values) == total de palavras Relevantes"
   ]
  },
  {
   "cell_type": "markdown",
   "metadata": {},
   "source": [
    "___\n",
    "### Verificando a performance do Classificador\n",
    "\n",
    "Agora você deve testar o seu classificador com a base de Testes."
   ]
  },
  {
   "cell_type": "code",
   "execution_count": 8,
   "metadata": {},
   "outputs": [],
   "source": [
    "\n",
    "total = len(word_count) #total de palavras no banco de dados\n",
    "totalR = (sum(R.values())) #total de palavaras na categoria Relevante\n",
    "totalP = (sum(P.values())) #total de palavaras na categoria Pouco Relevante\n",
    "totalI = (sum(I.values())) #total de palavaras na categoria Irrelevante\n",
    "\n",
    "l = [] #lista de classificacoes, mesma ordem da base test\n",
    "for i, tweet in test.iterrows(): #iterando a base de dados\n",
    "    \n",
    "    #valores para a probabiliade do tweet ser Irrelevante, comeca como 1 para nao der erro na multiplicacao abaixo\n",
    "    i = 1\n",
    "    p = 1\n",
    "    r = 1\n",
    "    \n",
    "    piu = tweet.Teste #carregando apenas os tweets \n",
    "    \n",
    "    for c in chars: #iterando a listad e cacarteres p/ remover\n",
    "        piu = piu.replace(c, \" \") #trocando os caracteres por \" \"\n",
    "    \n",
    "    #splitando os tweets em palavras e emojis separadamente e calculando a probalidade de cada palavra de ser cada categoria, fazendo a suavizacao de laplace\n",
    "    for word in separate_emoji(piu).split(): \n",
    "        \n",
    "        #calculando a probabiliade de ser relevamte, pegamos a probabiliadde total e multiplicamos pelo valor da palavra\n",
    "        r *= (R.get(word, 0) + 1) / (totalR + total) \n",
    "        p *= (P.get(word, 0) + 1) / (totalP + total) \n",
    "        i *= (I.get(word, 0) + 1) / (totalI + total) \n",
    "        \n",
    "    result = {\"R\":r,\"P\":p,\"I\": i} #dicionario para a comparacao dentro do MAX abaixo\n",
    "    l.append(max(result, key = result.get)) #compara os valores de r, p, i, e adiciona correta a lista L \n",
    "\n",
    "test[\"Classificação\"] = l #adiciona a coluna classificacao a test, como a ordem eh a mesma, podemos adicionar.\n",
    "\n",
    "# test.head(20)"
   ]
  },
  {
   "cell_type": "code",
   "execution_count": 9,
   "metadata": {},
   "outputs": [],
   "source": [
    "#essa parte do codigo salva o resultado do teste em um novo \n",
    "\n",
    "# x = \"\"\n",
    "# n = 1\n",
    "# while os.path.isfile('./{0}.xlsx'.format(\"3080\" + x)): #salva um novo arquivo de excel para cada iteracao do loop, com n+1 por iteracao, para comapar as iteracoes do classificador \n",
    "#     x = \"-\" + str(n)\n",
    "#     n += 1\n",
    "# file = './{0}.xlsx'.format(\"3080\" + x)\n",
    "    \n",
    "\n",
    "# writer = pd.ExcelWriter(file) #Abre o arquivo para escrita\n",
    "\n",
    "# test.to_excel(excel_writer = writer, sheet_name = 'Teste', index = False) #salva o arquivo teste classificado\n",
    "\n",
    "\n",
    "# writer.save() #fecha o arquivo"
   ]
  },
  {
   "cell_type": "code",
   "execution_count": null,
   "metadata": {},
   "outputs": [],
   "source": []
  },
  {
   "cell_type": "markdown",
   "metadata": {},
   "source": [
    "___\n",
    "### Concluindo"
   ]
  },
  {
   "cell_type": "code",
   "execution_count": null,
   "metadata": {},
   "outputs": [],
   "source": []
  },
  {
   "cell_type": "code",
   "execution_count": null,
   "metadata": {},
   "outputs": [],
   "source": []
  },
  {
   "cell_type": "markdown",
   "metadata": {},
   "source": [
    "___\n",
    "## Aperfeiçoamento:\n",
    "\n",
    "Os trabalhos vão evoluir em conceito dependendo da quantidade de itens avançados:\n",
    "\n",
    "* Limpar: \\n, :, \", ', (, ), etc SEM remover emojis\n",
    "* Corrigir separação de espaços entre palavras e emojis ou entre emojis e emojis\n",
    "* Propor outras limpezas e transformações que não afetem a qualidade da informação ou classificação\n",
    "* Criar categorias intermediárias de relevância baseadas na probabilidade: ex.: muito relevante, relevante, neutro, irrelevante, muito irrelevante (3 categorias: C, mais categorias conta para B)\n",
    "* Explicar por que não posso usar o próprio classificador para gerar mais amostras de treinamento\n",
    "* Propor diferentes cenários para Naïve Bayes fora do contexto do projeto\n",
    "* Sugerir e explicar melhorias reais com indicações concretas de como implementar (indicar como fazer e indicar material de pesquisa)\n",
    "* Montar um dashboard que realiza análise de sentimento e visualiza estes dados"
   ]
  },
  {
   "cell_type": "markdown",
   "metadata": {},
   "source": [
    "___\n",
    "## Referências"
   ]
  },
  {
   "cell_type": "markdown",
   "metadata": {},
   "source": [
    "[Naive Bayes and Text Classification](https://arxiv.org/pdf/1410.5329.pdf)  **Mais completo**\n",
    "\n",
    "[A practical explanation of a Naive Bayes Classifier](https://monkeylearn.com/blog/practical-explanation-naive-bayes-classifier/) **Mais simples**"
   ]
  },
  {
   "cell_type": "code",
   "execution_count": null,
   "metadata": {},
   "outputs": [],
   "source": []
  }
 ],
 "metadata": {
  "kernelspec": {
   "display_name": "Python 3",
   "language": "python",
   "name": "python3"
  },
  "language_info": {
   "codemirror_mode": {
    "name": "ipython",
    "version": 3
   },
   "file_extension": ".py",
   "mimetype": "text/x-python",
   "name": "python",
   "nbconvert_exporter": "python",
   "pygments_lexer": "ipython3",
   "version": "3.7.6"
  }
 },
 "nbformat": 4,
 "nbformat_minor": 4
}
